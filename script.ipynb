{
 "cells": [
  {
   "cell_type": "code",
   "execution_count": 111,
   "metadata": {},
   "outputs": [],
   "source": [
    "# import libraries\n",
    "import os\n",
    "import glob\n",
    "import random\n",
    "import cv2\n",
    "import xml.etree.ElementTree as ET"
   ]
  },
  {
   "cell_type": "code",
   "execution_count": 112,
   "metadata": {},
   "outputs": [],
   "source": [
    "# read image files in images directory\n",
    "img_dir = 'images/'\n",
    "img_format = 'jpg'\n",
    "image_files = glob.glob('{}*.{}'.format(img_dir, img_format))"
   ]
  },
  {
   "cell_type": "code",
   "execution_count": 113,
   "metadata": {
    "scrolled": false
   },
   "outputs": [],
   "source": [
    "# read label files in directory\n",
    "label_dir = 'labels/'\n",
    "label_format = 'xml'\n",
    "label_files = glob.glob('{}*.{}'.format(label_dir, label_format))"
   ]
  },
  {
   "cell_type": "code",
   "execution_count": 114,
   "metadata": {},
   "outputs": [],
   "source": [
    "# create directory of labelled images if it's is not already created\n",
    "label_img_dir = \"labelled images\"\n",
    "if label_img_dir not in os.listdir():\n",
    "    os.mkdir(label_img_dir)\n",
    "    print(\"Directory:\", label_img_dir, \"created!\")"
   ]
  },
  {
   "cell_type": "code",
   "execution_count": 115,
   "metadata": {
    "scrolled": false
   },
   "outputs": [
    {
     "name": "stdout",
     "output_type": "stream",
     "text": [
      "Total images: 3669\n",
      "Total labels: 565\n"
     ]
    }
   ],
   "source": [
    "print('Total images:', len(image_files))\n",
    "print('Total labels:', len(label_files))"
   ]
  },
  {
   "cell_type": "code",
   "execution_count": 116,
   "metadata": {
    "scrolled": false
   },
   "outputs": [],
   "source": [
    "# list of image names\n",
    "images = [i.replace(img_dir, \"\").replace(\"img.\" + img_format, \"\") for i in image_files]"
   ]
  },
  {
   "cell_type": "code",
   "execution_count": 117,
   "metadata": {
    "scrolled": false
   },
   "outputs": [],
   "source": [
    "# list of label names\n",
    "labels = [l.replace(label_dir, \"\").replace(\"img.\" + label_format, \"\") for l in label_files]"
   ]
  },
  {
   "cell_type": "code",
   "execution_count": 118,
   "metadata": {
    "scrolled": false
   },
   "outputs": [],
   "source": [
    "# move images whose labels are generated to labelled images directory\n",
    "for label in labels:\n",
    "    if label in images:\n",
    "        index = images.index(label)\n",
    "        os.rename(image_files[index], label_img_dir + \"/\" + label + \"img.\" + img_format)"
   ]
  },
  {
   "cell_type": "code",
   "execution_count": 128,
   "metadata": {},
   "outputs": [
    {
     "name": "stdout",
     "output_type": "stream",
     "text": [
      "labelled images/397img.jpg\n",
      "labels/397img.xml\n"
     ]
    }
   ],
   "source": [
    "# pick a image and corresponding label at random for testing \n",
    "labelled_images = glob.glob('{}*.{}'.format(label_img_dir + \"/\", img_format))\n",
    "test_image = random.choice(labelled_images)\n",
    "img_index = test_image.replace(label_img_dir + \"/\", \"\").replace(\"img.\" + img_format, \"\")\n",
    "test_label = label_files[labels.index(img_index)]\n",
    "print(test_image)\n",
    "print(test_label)"
   ]
  },
  {
   "cell_type": "code",
   "execution_count": 129,
   "metadata": {},
   "outputs": [],
   "source": [
    "# read test image\n",
    "img = cv2.imread(test_image)"
   ]
  },
  {
   "cell_type": "code",
   "execution_count": 130,
   "metadata": {},
   "outputs": [
    {
     "name": "stdout",
     "output_type": "stream",
     "text": [
      "162 182 188 209\n"
     ]
    }
   ],
   "source": [
    "# parse test label xml file to find ball coordinates\n",
    "root = ET.parse(test_label).getroot()\n",
    "coord = root.find('object').find('bndbox')\n",
    "x1 = int(coord.find('xmin').text)\n",
    "y1 = int(coord.find('ymin').text)\n",
    "x2 = int(coord.find('xmax').text)\n",
    "y2 = int(coord.find('ymax').text)\n",
    "\n",
    "print(x1, y1, x2, y2)"
   ]
  },
  {
   "cell_type": "code",
   "execution_count": 131,
   "metadata": {},
   "outputs": [],
   "source": [
    "# draw rectangle at bounding box coordinates\n",
    "cv2.rectangle(img, (x1, y1), (x2, y2), (0, 255, 255), 2)\n",
    "cv2.imshow('window', img)\n",
    "cv2.waitKey(0)\n",
    "cv2.destroyAllWindows()"
   ]
  },
  {
   "cell_type": "code",
   "execution_count": null,
   "metadata": {},
   "outputs": [],
   "source": []
  }
 ],
 "metadata": {
  "kernelspec": {
   "display_name": "Python 3",
   "language": "python",
   "name": "python3"
  },
  "language_info": {
   "codemirror_mode": {
    "name": "ipython",
    "version": 3
   },
   "file_extension": ".py",
   "mimetype": "text/x-python",
   "name": "python",
   "nbconvert_exporter": "python",
   "pygments_lexer": "ipython3",
   "version": "3.7.3"
  }
 },
 "nbformat": 4,
 "nbformat_minor": 2
}
